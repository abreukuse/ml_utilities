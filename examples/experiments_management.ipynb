{
 "cells": [
  {
   "cell_type": "markdown",
   "metadata": {},
   "source": [
    "# Experiments Management\n",
    "This notebook shows how to use the [experiment_management.py](https://github.com/abreukuse/ml_utilities/blob/master/experiments_management.py) module. You can use the function `experiment_manager` in the module as a way to track and record machine learning experiments results with the help of [mlflow](https://mlflow.org/docs/latest/index.html).<br>\n",
    "It is possible to try several configurations of hyperparameters. Also, it is possible to choose between a simple split in the data or cross-validation in both tasks: classification and regression."
   ]
  },
  {
   "cell_type": "code",
   "execution_count": 1,
   "metadata": {},
   "outputs": [],
   "source": [
    "# requirements:\n",
    "\n",
    "# feature_engine==1.0.2\n",
    "# scikit-learn==0.24.1\n",
    "# numpy==1.19.3\n",
    "# pandas==1.2.3"
   ]
  },
  {
   "cell_type": "code",
   "execution_count": 2,
   "metadata": {},
   "outputs": [],
   "source": [
    "import pandas as pd\n",
    "import numpy as np\n",
    "from sklearn.datasets import load_breast_cancer, load_diabetes\n",
    "from feature_engine.wrappers import SklearnTransformerWrapper\n",
    "from sklearn.pipeline import make_pipeline\n",
    "from sklearn.preprocessing import StandardScaler, MinMaxScaler, FunctionTransformer\n",
    "from sklearn.model_selection import KFold, RepeatedKFold\n",
    "from sklearn.linear_model import LogisticRegression, Ridge\n",
    "from sklearn.tree import DecisionTreeClassifier, DecisionTreeRegressor\n",
    "from sklearn.metrics import accuracy_score, precision_score, recall_score, f1_score, make_scorer, roc_auc_score, log_loss\n",
    "from sklearn.metrics import mean_absolute_error, mean_absolute_percentage_error, mean_squared_error, mean_squared_log_error\n",
    "from experiments_management import experiment_manager"
   ]
  },
  {
   "cell_type": "markdown",
   "metadata": {},
   "source": [
    "## Classification"
   ]
  },
  {
   "cell_type": "code",
   "execution_count": 3,
   "metadata": {},
   "outputs": [],
   "source": [
    "data = load_breast_cancer()"
   ]
  },
  {
   "cell_type": "code",
   "execution_count": 4,
   "metadata": {},
   "outputs": [
    {
     "data": {
      "text/html": [
       "<div>\n",
       "<style scoped>\n",
       "    .dataframe tbody tr th:only-of-type {\n",
       "        vertical-align: middle;\n",
       "    }\n",
       "\n",
       "    .dataframe tbody tr th {\n",
       "        vertical-align: top;\n",
       "    }\n",
       "\n",
       "    .dataframe thead th {\n",
       "        text-align: right;\n",
       "    }\n",
       "</style>\n",
       "<table border=\"1\" class=\"dataframe\">\n",
       "  <thead>\n",
       "    <tr style=\"text-align: right;\">\n",
       "      <th></th>\n",
       "      <th>mean radius</th>\n",
       "      <th>mean texture</th>\n",
       "      <th>mean perimeter</th>\n",
       "      <th>mean area</th>\n",
       "      <th>mean smoothness</th>\n",
       "      <th>mean compactness</th>\n",
       "      <th>mean concavity</th>\n",
       "      <th>mean concave points</th>\n",
       "      <th>mean symmetry</th>\n",
       "      <th>mean fractal dimension</th>\n",
       "      <th>...</th>\n",
       "      <th>worst radius</th>\n",
       "      <th>worst texture</th>\n",
       "      <th>worst perimeter</th>\n",
       "      <th>worst area</th>\n",
       "      <th>worst smoothness</th>\n",
       "      <th>worst compactness</th>\n",
       "      <th>worst concavity</th>\n",
       "      <th>worst concave points</th>\n",
       "      <th>worst symmetry</th>\n",
       "      <th>worst fractal dimension</th>\n",
       "    </tr>\n",
       "  </thead>\n",
       "  <tbody>\n",
       "    <tr>\n",
       "      <th>0</th>\n",
       "      <td>17.99</td>\n",
       "      <td>10.38</td>\n",
       "      <td>122.80</td>\n",
       "      <td>1001.0</td>\n",
       "      <td>0.11840</td>\n",
       "      <td>0.27760</td>\n",
       "      <td>0.3001</td>\n",
       "      <td>0.14710</td>\n",
       "      <td>0.2419</td>\n",
       "      <td>0.07871</td>\n",
       "      <td>...</td>\n",
       "      <td>25.38</td>\n",
       "      <td>17.33</td>\n",
       "      <td>184.60</td>\n",
       "      <td>2019.0</td>\n",
       "      <td>0.1622</td>\n",
       "      <td>0.6656</td>\n",
       "      <td>0.7119</td>\n",
       "      <td>0.2654</td>\n",
       "      <td>0.4601</td>\n",
       "      <td>0.11890</td>\n",
       "    </tr>\n",
       "    <tr>\n",
       "      <th>1</th>\n",
       "      <td>20.57</td>\n",
       "      <td>17.77</td>\n",
       "      <td>132.90</td>\n",
       "      <td>1326.0</td>\n",
       "      <td>0.08474</td>\n",
       "      <td>0.07864</td>\n",
       "      <td>0.0869</td>\n",
       "      <td>0.07017</td>\n",
       "      <td>0.1812</td>\n",
       "      <td>0.05667</td>\n",
       "      <td>...</td>\n",
       "      <td>24.99</td>\n",
       "      <td>23.41</td>\n",
       "      <td>158.80</td>\n",
       "      <td>1956.0</td>\n",
       "      <td>0.1238</td>\n",
       "      <td>0.1866</td>\n",
       "      <td>0.2416</td>\n",
       "      <td>0.1860</td>\n",
       "      <td>0.2750</td>\n",
       "      <td>0.08902</td>\n",
       "    </tr>\n",
       "    <tr>\n",
       "      <th>2</th>\n",
       "      <td>19.69</td>\n",
       "      <td>21.25</td>\n",
       "      <td>130.00</td>\n",
       "      <td>1203.0</td>\n",
       "      <td>0.10960</td>\n",
       "      <td>0.15990</td>\n",
       "      <td>0.1974</td>\n",
       "      <td>0.12790</td>\n",
       "      <td>0.2069</td>\n",
       "      <td>0.05999</td>\n",
       "      <td>...</td>\n",
       "      <td>23.57</td>\n",
       "      <td>25.53</td>\n",
       "      <td>152.50</td>\n",
       "      <td>1709.0</td>\n",
       "      <td>0.1444</td>\n",
       "      <td>0.4245</td>\n",
       "      <td>0.4504</td>\n",
       "      <td>0.2430</td>\n",
       "      <td>0.3613</td>\n",
       "      <td>0.08758</td>\n",
       "    </tr>\n",
       "    <tr>\n",
       "      <th>3</th>\n",
       "      <td>11.42</td>\n",
       "      <td>20.38</td>\n",
       "      <td>77.58</td>\n",
       "      <td>386.1</td>\n",
       "      <td>0.14250</td>\n",
       "      <td>0.28390</td>\n",
       "      <td>0.2414</td>\n",
       "      <td>0.10520</td>\n",
       "      <td>0.2597</td>\n",
       "      <td>0.09744</td>\n",
       "      <td>...</td>\n",
       "      <td>14.91</td>\n",
       "      <td>26.50</td>\n",
       "      <td>98.87</td>\n",
       "      <td>567.7</td>\n",
       "      <td>0.2098</td>\n",
       "      <td>0.8663</td>\n",
       "      <td>0.6869</td>\n",
       "      <td>0.2575</td>\n",
       "      <td>0.6638</td>\n",
       "      <td>0.17300</td>\n",
       "    </tr>\n",
       "    <tr>\n",
       "      <th>4</th>\n",
       "      <td>20.29</td>\n",
       "      <td>14.34</td>\n",
       "      <td>135.10</td>\n",
       "      <td>1297.0</td>\n",
       "      <td>0.10030</td>\n",
       "      <td>0.13280</td>\n",
       "      <td>0.1980</td>\n",
       "      <td>0.10430</td>\n",
       "      <td>0.1809</td>\n",
       "      <td>0.05883</td>\n",
       "      <td>...</td>\n",
       "      <td>22.54</td>\n",
       "      <td>16.67</td>\n",
       "      <td>152.20</td>\n",
       "      <td>1575.0</td>\n",
       "      <td>0.1374</td>\n",
       "      <td>0.2050</td>\n",
       "      <td>0.4000</td>\n",
       "      <td>0.1625</td>\n",
       "      <td>0.2364</td>\n",
       "      <td>0.07678</td>\n",
       "    </tr>\n",
       "  </tbody>\n",
       "</table>\n",
       "<p>5 rows × 30 columns</p>\n",
       "</div>"
      ],
      "text/plain": [
       "   mean radius  mean texture  mean perimeter  mean area  mean smoothness  \\\n",
       "0        17.99         10.38          122.80     1001.0          0.11840   \n",
       "1        20.57         17.77          132.90     1326.0          0.08474   \n",
       "2        19.69         21.25          130.00     1203.0          0.10960   \n",
       "3        11.42         20.38           77.58      386.1          0.14250   \n",
       "4        20.29         14.34          135.10     1297.0          0.10030   \n",
       "\n",
       "   mean compactness  mean concavity  mean concave points  mean symmetry  \\\n",
       "0           0.27760          0.3001              0.14710         0.2419   \n",
       "1           0.07864          0.0869              0.07017         0.1812   \n",
       "2           0.15990          0.1974              0.12790         0.2069   \n",
       "3           0.28390          0.2414              0.10520         0.2597   \n",
       "4           0.13280          0.1980              0.10430         0.1809   \n",
       "\n",
       "   mean fractal dimension  ...  worst radius  worst texture  worst perimeter  \\\n",
       "0                 0.07871  ...         25.38          17.33           184.60   \n",
       "1                 0.05667  ...         24.99          23.41           158.80   \n",
       "2                 0.05999  ...         23.57          25.53           152.50   \n",
       "3                 0.09744  ...         14.91          26.50            98.87   \n",
       "4                 0.05883  ...         22.54          16.67           152.20   \n",
       "\n",
       "   worst area  worst smoothness  worst compactness  worst concavity  \\\n",
       "0      2019.0            0.1622             0.6656           0.7119   \n",
       "1      1956.0            0.1238             0.1866           0.2416   \n",
       "2      1709.0            0.1444             0.4245           0.4504   \n",
       "3       567.7            0.2098             0.8663           0.6869   \n",
       "4      1575.0            0.1374             0.2050           0.4000   \n",
       "\n",
       "   worst concave points  worst symmetry  worst fractal dimension  \n",
       "0                0.2654          0.4601                  0.11890  \n",
       "1                0.1860          0.2750                  0.08902  \n",
       "2                0.2430          0.3613                  0.08758  \n",
       "3                0.2575          0.6638                  0.17300  \n",
       "4                0.1625          0.2364                  0.07678  \n",
       "\n",
       "[5 rows x 30 columns]"
      ]
     },
     "execution_count": 4,
     "metadata": {},
     "output_type": "execute_result"
    }
   ],
   "source": [
    "X = pd.DataFrame(data.data, columns=data.feature_names)\n",
    "X.head()"
   ]
  },
  {
   "cell_type": "code",
   "execution_count": 5,
   "metadata": {},
   "outputs": [
    {
     "data": {
      "text/plain": [
       "0    0\n",
       "1    0\n",
       "2    0\n",
       "3    0\n",
       "4    0\n",
       "dtype: int32"
      ]
     },
     "execution_count": 5,
     "metadata": {},
     "output_type": "execute_result"
    }
   ],
   "source": [
    "y = pd.Series(data.target)\n",
    "y.head()"
   ]
  },
  {
   "cell_type": "markdown",
   "metadata": {},
   "source": [
    "### One Experiment"
   ]
  },
  {
   "cell_type": "code",
   "execution_count": 6,
   "metadata": {},
   "outputs": [],
   "source": [
    "RANDOM_STATE = 77\n",
    "TEST_SIZE = 0.3"
   ]
  },
  {
   "cell_type": "code",
   "execution_count": 7,
   "metadata": {},
   "outputs": [],
   "source": [
    "pipeline_logistic_regression = make_pipeline(SklearnTransformerWrapper(transformer=StandardScaler()),\n",
    "                                             LogisticRegression())"
   ]
  },
  {
   "cell_type": "code",
   "execution_count": 8,
   "metadata": {},
   "outputs": [],
   "source": [
    "# Setting the hyperparameters search space for logistic regression\n",
    "\n",
    "def runs_logistic_regression():\n",
    "    choose = np.random.choice\n",
    "\n",
    "    C = choose([0.001,0.01,0.1,1,10,100,1000])\n",
    "    max_iter = choose(range(3000, 10500, 1000))\n",
    "    solver = choose(['lbfgs', 'sag', 'saga'])\n",
    "    transformer = choose([StandardScaler(), MinMaxScaler()])\n",
    "\n",
    "    hyperparameters = {'logisticregression__C': C,\n",
    "                       'logisticregression__max_iter': max_iter,\n",
    "                       'logisticregression__solver': solver,\n",
    "                       'sklearntransformerwrapper__transformer': transformer,\n",
    "                       'logisticregression__random_state': RANDOM_STATE}\n",
    "    \n",
    "    return hyperparameters"
   ]
  },
  {
   "cell_type": "code",
   "execution_count": 9,
   "metadata": {},
   "outputs": [],
   "source": [
    "metrics = {'precision': precision_score,\n",
    "           'recall': recall_score,\n",
    "           'f1_score': f1_score,\n",
    "           'accuracy': accuracy_score,\n",
    "           'auc': roc_auc_score,\n",
    "           'log_loss': log_loss}"
   ]
  },
  {
   "cell_type": "markdown",
   "metadata": {},
   "source": [
    "#### Simple Split"
   ]
  },
  {
   "cell_type": "code",
   "execution_count": 10,
   "metadata": {},
   "outputs": [
    {
     "name": "stdout",
     "output_type": "stream",
     "text": [
      "Experiment Name: LogisticRegression\n",
      "Experiment_id: 1\n",
      "\n",
      "Run 1\n",
      "\n",
      "HYPERPARAMETERS\n",
      "C: 1.0\n",
      "max_iter: 5000\n",
      "solver: lbfgs\n",
      "transformer: MinMaxScaler()\n",
      "random_state: 77\n",
      "\n",
      "SCORES\n",
      "train_precision: 0.929\n",
      "test_precision: 0.932\n",
      "train_recall: 1.0\n",
      "test_recall: 1.0\n",
      "train_f1_score: 0.963\n",
      "test_f1_score: 0.965\n",
      "train_accuracy: 0.952\n",
      "test_accuracy: 0.953\n",
      "train_auc: 0.993\n",
      "test_auc: 0.995\n",
      "train_log_loss: 0.188\n",
      "test_log_loss: 0.177\n",
      "\n",
      "Run 2\n",
      "\n",
      "HYPERPARAMETERS\n",
      "C: 1000.0\n",
      "max_iter: 10000\n",
      "solver: lbfgs\n",
      "transformer: MinMaxScaler()\n",
      "random_state: 77\n",
      "\n",
      "SCORES\n",
      "train_precision: 0.954\n",
      "test_precision: 0.956\n",
      "train_recall: 0.996\n",
      "test_recall: 1.0\n",
      "train_f1_score: 0.974\n",
      "test_f1_score: 0.978\n",
      "train_accuracy: 0.967\n",
      "test_accuracy: 0.971\n",
      "train_auc: 0.994\n",
      "test_auc: 0.993\n",
      "train_log_loss: 0.139\n",
      "test_log_loss: 0.131\n",
      "\n",
      "Run 3\n",
      "\n",
      "HYPERPARAMETERS\n",
      "C: 0.001\n",
      "max_iter: 5000\n",
      "solver: lbfgs\n",
      "transformer: StandardScaler()\n",
      "random_state: 77\n",
      "\n",
      "SCORES\n",
      "train_precision: 0.988\n",
      "test_precision: 0.973\n",
      "train_recall: 0.992\n",
      "test_recall: 1.0\n",
      "train_f1_score: 0.99\n",
      "test_f1_score: 0.986\n",
      "train_accuracy: 0.987\n",
      "test_accuracy: 0.982\n",
      "train_auc: 0.997\n",
      "test_auc: 0.998\n",
      "train_log_loss: 0.058\n",
      "test_log_loss: 0.054\n",
      "\n",
      "Type \"mlflow ui\" in your terminal in order to interact with mlflow user interface.\n",
      "\n"
     ]
    }
   ],
   "source": [
    "experiment_manager(task='classification',\n",
    "                   pipeline=pipeline_logistic_regression, \n",
    "                   X=X, \n",
    "                   y=y, \n",
    "                   runs=3,\n",
    "                   validation='simple_split',\n",
    "                   hyperparameters=runs_logistic_regression,\n",
    "                   metrics=metrics,\n",
    "                   random_state=RANDOM_STATE,\n",
    "                   test_size=TEST_SIZE)"
   ]
  },
  {
   "cell_type": "markdown",
   "metadata": {},
   "source": [
    "#### Cross Validation"
   ]
  },
  {
   "cell_type": "code",
   "execution_count": null,
   "metadata": {},
   "outputs": [
    {
     "name": "stdout",
     "output_type": "stream",
     "text": [
      "Experiment Name: LogisticRegression\n",
      "Experiment_id: 1\n",
      "\n",
      "Run 1\n",
      "\n",
      "HYPERPARAMETERS\n",
      "C: 0.001\n",
      "max_iter: 5000\n",
      "solver: lbfgs\n",
      "transformer: MinMaxScaler()\n",
      "random_state: 77\n",
      "\n",
      "SCORES\n",
      "train_precision: 0.989\n",
      "test_precision: 0.969\n",
      "train_recall: 0.997\n",
      "test_recall: 0.978\n",
      "train_f1_score: 0.993\n",
      "test_f1_score: 0.974\n",
      "train_accuracy: 0.991\n",
      "test_accuracy: 0.967\n",
      "train_auc: 0.998\n",
      "test_auc: 0.994\n",
      "train_log_loss: 0.043\n",
      "test_log_loss: 0.085\n",
      "\n"
     ]
    }
   ],
   "source": [
    "experiment_manager(task='classification',\n",
    "                   pipeline=pipeline_logistic_regression, \n",
    "                   X=X, \n",
    "                   y=y, \n",
    "                   runs=3,\n",
    "                   validation='cross_validation',\n",
    "                   hyperparameters=runs_logistic_regression,\n",
    "                   metrics=metrics,\n",
    "                   random_state=RANDOM_STATE,\n",
    "                   cv_method=KFold(n_splits=2, shuffle=True, random_state=RANDOM_STATE),\n",
    "                   n_splits=2)"
   ]
  },
  {
   "cell_type": "markdown",
   "metadata": {},
   "source": [
    "### More than one experiment"
   ]
  },
  {
   "cell_type": "code",
   "execution_count": null,
   "metadata": {},
   "outputs": [],
   "source": [
    "# I will add the decision tree classifier and run together with the logistic regression\n",
    "pipeline_decision_tree = make_pipeline(DecisionTreeClassifier())"
   ]
  },
  {
   "cell_type": "code",
   "execution_count": null,
   "metadata": {},
   "outputs": [],
   "source": [
    "# Search space for decision trees\n",
    "\n",
    "def runs_decision_tree():\n",
    "    choose = np.random.choice\n",
    "\n",
    "    max_depth = choose(range(2, 16, 2))\n",
    "    min_samples_split  = choose([5,8,10,12,15,20])\n",
    "    min_samples_leaf = choose([5,8,10,12,15,20])\n",
    "    max_features = choose(np.arange(0.1,1.1,0.1))\n",
    "    min_impurity_decrease = choose(np.arange(0.1,0.6,0.1))\n",
    "    class_weight = choose([None, 'balanced'])\n",
    "\n",
    "    hyperparameters = {'decisiontreeclassifier__max_depth': max_depth,\n",
    "                       'decisiontreeclassifier__min_samples_split': min_samples_split,\n",
    "                       'decisiontreeclassifier__min_samples_leaf': min_samples_leaf,\n",
    "                       'decisiontreeclassifier__max_features': max_features,\n",
    "                       'decisiontreeclassifier__min_impurity_decrease': min_impurity_decrease,\n",
    "                       'decisiontreeclassifier__class_weight': class_weight,\n",
    "                       'decisiontreeclassifier__random_state': RANDOM_STATE}\n",
    "    \n",
    "    return hyperparameters"
   ]
  },
  {
   "cell_type": "code",
   "execution_count": null,
   "metadata": {},
   "outputs": [],
   "source": [
    "metrics = {'precision': precision_score,\n",
    "           'recall': recall_score,\n",
    "           'f1_score': f1_score,\n",
    "           'accuracy': accuracy_score,\n",
    "           'auc': roc_auc_score,\n",
    "           'log_loss': log_loss}"
   ]
  },
  {
   "cell_type": "code",
   "execution_count": null,
   "metadata": {},
   "outputs": [],
   "source": [
    "# Run both experiments: logistic regression and decision trees\n",
    "\n",
    "experiments = ((pipeline_logistic_regression, runs_logistic_regression),\n",
    "               (pipeline_decision_tree, runs_decision_tree))"
   ]
  },
  {
   "cell_type": "code",
   "execution_count": null,
   "metadata": {},
   "outputs": [],
   "source": [
    "for pipeline, hyperparameters in experiments:\n",
    "    experiment_manager(task='classification',\n",
    "                       pipeline=pipeline, X=X, y=y, \n",
    "                       runs=5,\n",
    "                       validation='simple_split',\n",
    "                       hyperparameters=hyperparameters,\n",
    "                       metrics=metrics,\n",
    "                       random_state=RANDOM_STATE,\n",
    "                       test_size=TEST_SIZE)"
   ]
  },
  {
   "cell_type": "markdown",
   "metadata": {},
   "source": [
    "## Regression"
   ]
  },
  {
   "cell_type": "code",
   "execution_count": null,
   "metadata": {},
   "outputs": [],
   "source": [
    "data = load_diabetes()"
   ]
  },
  {
   "cell_type": "code",
   "execution_count": null,
   "metadata": {},
   "outputs": [],
   "source": [
    "X = pd.DataFrame(data.data, columns=data.feature_names)\n",
    "X.head()"
   ]
  },
  {
   "cell_type": "code",
   "execution_count": null,
   "metadata": {},
   "outputs": [],
   "source": [
    "y = pd.Series(data.target)\n",
    "y.head()"
   ]
  },
  {
   "cell_type": "code",
   "execution_count": null,
   "metadata": {},
   "outputs": [],
   "source": [
    "ridge = make_pipeline(Ridge())\n",
    "decision_trees = make_pipeline(DecisionTreeRegressor())"
   ]
  },
  {
   "cell_type": "code",
   "execution_count": null,
   "metadata": {},
   "outputs": [],
   "source": [
    "# hyperparameter space:\n",
    "\n",
    "# ridge\n",
    "def runs_ridge():\n",
    "    choose = np.random.choice\n",
    "\n",
    "    alpha = choose([0.01,0.1,1,10,100])\n",
    "    max_iter = choose(range(1000, 10500, 1000))\n",
    "    solver = choose(['cholesky', 'sag', 'saga', 'svd', 'auto'])\n",
    "\n",
    "    hyperparameters = {'ridge__alpha': alpha,\n",
    "                       'ridge__max_iter': max_iter,\n",
    "                       'ridge__solver': solver,\n",
    "                       'ridge__random_state': RANDOM_STATE}\n",
    "    \n",
    "    return hyperparameters\n",
    "\n",
    "# decision tree\n",
    "def runs_decision_tree():\n",
    "    choose = np.random.choice\n",
    "\n",
    "    max_depth = choose(range(2, 16, 2))\n",
    "    min_samples_split  = choose([5,8,10,12,15,20])\n",
    "    min_samples_leaf = choose([5,8,10,12,15,20])\n",
    "    max_features = choose(np.arange(0.1,1.1,0.1))\n",
    "    min_impurity_decrease = choose(np.arange(0.1,0.6,0.1))\n",
    "\n",
    "    hyperparameters = {'decisiontreeregressor__max_depth': max_depth,\n",
    "                       'decisiontreeregressor__min_samples_split': min_samples_split,\n",
    "                       'decisiontreeregressor__min_samples_leaf': min_samples_leaf,\n",
    "                       'decisiontreeregressor__max_features': max_features,\n",
    "                       'decisiontreeregressor__min_impurity_decrease': min_impurity_decrease,\n",
    "                       'decisiontreeregressor__random_state': RANDOM_STATE}\n",
    "    \n",
    "    return hyperparameters"
   ]
  },
  {
   "cell_type": "code",
   "execution_count": null,
   "metadata": {},
   "outputs": [],
   "source": [
    "experiments = ((ridge, runs_ridge),\n",
    "               (decision_trees, runs_decision_tree))"
   ]
  },
  {
   "cell_type": "markdown",
   "metadata": {},
   "source": [
    "### Simple Split"
   ]
  },
  {
   "cell_type": "code",
   "execution_count": null,
   "metadata": {},
   "outputs": [],
   "source": [
    "metrics = {'rmse': mean_squared_error,\n",
    "           'mae': mean_absolute_error,\n",
    "           'mape': mean_absolute_percentage_error,\n",
    "           'msle': mean_squared_log_error}"
   ]
  },
  {
   "cell_type": "code",
   "execution_count": null,
   "metadata": {},
   "outputs": [],
   "source": [
    "for pipeline, hyperparameters in experiments:\n",
    "    experiment_manager(task='regression',\n",
    "                       pipeline=pipeline, X=X, y=y, \n",
    "                       runs=5,\n",
    "                       validation='simple_split',\n",
    "                       hyperparameters=hyperparameters,\n",
    "                       metrics=metrics,\n",
    "                       random_state=RANDOM_STATE,\n",
    "                       test_size=TEST_SIZE)"
   ]
  },
  {
   "cell_type": "markdown",
   "metadata": {},
   "source": [
    "### Cross Validation"
   ]
  },
  {
   "cell_type": "code",
   "execution_count": null,
   "metadata": {},
   "outputs": [],
   "source": [
    "# If the target is transformed, you need to provide the inverse transformation as a function\n",
    "# using the 'inverse' argument avaivable as a kwargs.\n",
    "\n",
    "y_log = np.log1p(y)\n",
    "\n",
    "for pipeline, hyperparameters in experiments:\n",
    "    experiment_manager(task='regression',\n",
    "                       pipeline=pipeline, X=X, y=y_log, \n",
    "                       runs=5,\n",
    "                       validation='cross_validation',\n",
    "                       cv_method=RepeatedKFold(n_splits=2, n_repeats=2, random_state=RANDOM_STATE),\n",
    "                       hyperparameters=hyperparameters,\n",
    "                       metrics=metrics,\n",
    "                       inverse=np.expm1)"
   ]
  }
 ],
 "metadata": {
  "kernelspec": {
   "display_name": "Python 3",
   "language": "python",
   "name": "python3"
  },
  "language_info": {
   "codemirror_mode": {
    "name": "ipython",
    "version": 3
   },
   "file_extension": ".py",
   "mimetype": "text/x-python",
   "name": "python",
   "nbconvert_exporter": "python",
   "pygments_lexer": "ipython3",
   "version": "3.7.6"
  }
 },
 "nbformat": 4,
 "nbformat_minor": 4
}
