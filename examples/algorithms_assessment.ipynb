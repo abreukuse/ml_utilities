{
  "nbformat": 4,
  "nbformat_minor": 0,
  "metadata": {
    "colab": {
      "name": "algorithms_assessment.ipynb",
      "provenance": [],
      "collapsed_sections": [],
      "toc_visible": true
    },
    "kernelspec": {
      "name": "python3",
      "display_name": "Python 3"
    }
  },
  "cells": [
    {
      "cell_type": "markdown",
      "metadata": {
        "id": "JG3Ni9fk3zbn"
      },
      "source": [
        "#  Algorithms Assessment\r\n",
        "\r\n",
        "Using [this](https://github.com/abreukuse/ml_utilities/blob/master/algorithms_assessment.py) python module you can make quick assessments about the performance of machine learning algorithms. \r\n",
        "There´s two classes in it. One is `ValidationCurves` with which is possible to analyze how a specific model behaves regarding changes in some hyperparameter. The other one is the `LeaningCurves`, and with this one you can look at the performance regarding a increasing sample size."
      ]
    },
    {
      "cell_type": "code",
      "metadata": {
        "id": "qeK34qoSEJpV"
      },
      "source": [
        "import pandas as pd\r\n",
        "\r\n",
        "from sklearn.datasets import load_breast_cancer\r\n",
        "from sklearn.preprocessing import StandardScaler\r\n",
        "from sklearn.pipeline import make_pipeline\r\n",
        "from sklearn.metrics import make_scorer, recall_score, precision_score, f1_score\r\n",
        "\r\n",
        "from sklearn.linear_model import LogisticRegression\r\n",
        "from sklearn.tree import DecisionTreeClassifier\r\n",
        "\r\n",
        "from algorithms_assessment import ValidationCurves, LearningCurves"
      ],
      "execution_count": 1,
      "outputs": []
    },
    {
      "cell_type": "code",
      "metadata": {
        "id": "P3a3VpUeE-FK"
      },
      "source": [
        "cancer = load_breast_cancer()"
      ],
      "execution_count": 2,
      "outputs": []
    },
    {
      "cell_type": "code",
      "metadata": {
        "colab": {
          "base_uri": "https://localhost:8080/",
          "height": 258
        },
        "id": "8LJYaR4lFAZE",
        "outputId": "7d15d844-2147-451f-b651-916720a5bb0a"
      },
      "source": [
        "df = pd.DataFrame(cancer['data'], columns=cancer['feature_names'])\r\n",
        "df['target'] = cancer['target']\r\n",
        "\r\n",
        "target_names = {0: 'malignant',\r\n",
        "               1: 'benign'}\r\n",
        "df.target.replace(target_names, inplace=True)\r\n",
        "\r\n",
        "df.head()"
      ],
      "execution_count": 3,
      "outputs": [
        {
          "output_type": "execute_result",
          "data": {
            "text/html": [
              "<div>\n",
              "<style scoped>\n",
              "    .dataframe tbody tr th:only-of-type {\n",
              "        vertical-align: middle;\n",
              "    }\n",
              "\n",
              "    .dataframe tbody tr th {\n",
              "        vertical-align: top;\n",
              "    }\n",
              "\n",
              "    .dataframe thead th {\n",
              "        text-align: right;\n",
              "    }\n",
              "</style>\n",
              "<table border=\"1\" class=\"dataframe\">\n",
              "  <thead>\n",
              "    <tr style=\"text-align: right;\">\n",
              "      <th></th>\n",
              "      <th>mean radius</th>\n",
              "      <th>mean texture</th>\n",
              "      <th>mean perimeter</th>\n",
              "      <th>mean area</th>\n",
              "      <th>mean smoothness</th>\n",
              "      <th>mean compactness</th>\n",
              "      <th>mean concavity</th>\n",
              "      <th>mean concave points</th>\n",
              "      <th>mean symmetry</th>\n",
              "      <th>mean fractal dimension</th>\n",
              "      <th>radius error</th>\n",
              "      <th>texture error</th>\n",
              "      <th>perimeter error</th>\n",
              "      <th>area error</th>\n",
              "      <th>smoothness error</th>\n",
              "      <th>compactness error</th>\n",
              "      <th>concavity error</th>\n",
              "      <th>concave points error</th>\n",
              "      <th>symmetry error</th>\n",
              "      <th>fractal dimension error</th>\n",
              "      <th>worst radius</th>\n",
              "      <th>worst texture</th>\n",
              "      <th>worst perimeter</th>\n",
              "      <th>worst area</th>\n",
              "      <th>worst smoothness</th>\n",
              "      <th>worst compactness</th>\n",
              "      <th>worst concavity</th>\n",
              "      <th>worst concave points</th>\n",
              "      <th>worst symmetry</th>\n",
              "      <th>worst fractal dimension</th>\n",
              "      <th>target</th>\n",
              "    </tr>\n",
              "  </thead>\n",
              "  <tbody>\n",
              "    <tr>\n",
              "      <th>0</th>\n",
              "      <td>17.99</td>\n",
              "      <td>10.38</td>\n",
              "      <td>122.80</td>\n",
              "      <td>1001.0</td>\n",
              "      <td>0.11840</td>\n",
              "      <td>0.27760</td>\n",
              "      <td>0.3001</td>\n",
              "      <td>0.14710</td>\n",
              "      <td>0.2419</td>\n",
              "      <td>0.07871</td>\n",
              "      <td>1.0950</td>\n",
              "      <td>0.9053</td>\n",
              "      <td>8.589</td>\n",
              "      <td>153.40</td>\n",
              "      <td>0.006399</td>\n",
              "      <td>0.04904</td>\n",
              "      <td>0.05373</td>\n",
              "      <td>0.01587</td>\n",
              "      <td>0.03003</td>\n",
              "      <td>0.006193</td>\n",
              "      <td>25.38</td>\n",
              "      <td>17.33</td>\n",
              "      <td>184.60</td>\n",
              "      <td>2019.0</td>\n",
              "      <td>0.1622</td>\n",
              "      <td>0.6656</td>\n",
              "      <td>0.7119</td>\n",
              "      <td>0.2654</td>\n",
              "      <td>0.4601</td>\n",
              "      <td>0.11890</td>\n",
              "      <td>malignant</td>\n",
              "    </tr>\n",
              "    <tr>\n",
              "      <th>1</th>\n",
              "      <td>20.57</td>\n",
              "      <td>17.77</td>\n",
              "      <td>132.90</td>\n",
              "      <td>1326.0</td>\n",
              "      <td>0.08474</td>\n",
              "      <td>0.07864</td>\n",
              "      <td>0.0869</td>\n",
              "      <td>0.07017</td>\n",
              "      <td>0.1812</td>\n",
              "      <td>0.05667</td>\n",
              "      <td>0.5435</td>\n",
              "      <td>0.7339</td>\n",
              "      <td>3.398</td>\n",
              "      <td>74.08</td>\n",
              "      <td>0.005225</td>\n",
              "      <td>0.01308</td>\n",
              "      <td>0.01860</td>\n",
              "      <td>0.01340</td>\n",
              "      <td>0.01389</td>\n",
              "      <td>0.003532</td>\n",
              "      <td>24.99</td>\n",
              "      <td>23.41</td>\n",
              "      <td>158.80</td>\n",
              "      <td>1956.0</td>\n",
              "      <td>0.1238</td>\n",
              "      <td>0.1866</td>\n",
              "      <td>0.2416</td>\n",
              "      <td>0.1860</td>\n",
              "      <td>0.2750</td>\n",
              "      <td>0.08902</td>\n",
              "      <td>malignant</td>\n",
              "    </tr>\n",
              "    <tr>\n",
              "      <th>2</th>\n",
              "      <td>19.69</td>\n",
              "      <td>21.25</td>\n",
              "      <td>130.00</td>\n",
              "      <td>1203.0</td>\n",
              "      <td>0.10960</td>\n",
              "      <td>0.15990</td>\n",
              "      <td>0.1974</td>\n",
              "      <td>0.12790</td>\n",
              "      <td>0.2069</td>\n",
              "      <td>0.05999</td>\n",
              "      <td>0.7456</td>\n",
              "      <td>0.7869</td>\n",
              "      <td>4.585</td>\n",
              "      <td>94.03</td>\n",
              "      <td>0.006150</td>\n",
              "      <td>0.04006</td>\n",
              "      <td>0.03832</td>\n",
              "      <td>0.02058</td>\n",
              "      <td>0.02250</td>\n",
              "      <td>0.004571</td>\n",
              "      <td>23.57</td>\n",
              "      <td>25.53</td>\n",
              "      <td>152.50</td>\n",
              "      <td>1709.0</td>\n",
              "      <td>0.1444</td>\n",
              "      <td>0.4245</td>\n",
              "      <td>0.4504</td>\n",
              "      <td>0.2430</td>\n",
              "      <td>0.3613</td>\n",
              "      <td>0.08758</td>\n",
              "      <td>malignant</td>\n",
              "    </tr>\n",
              "    <tr>\n",
              "      <th>3</th>\n",
              "      <td>11.42</td>\n",
              "      <td>20.38</td>\n",
              "      <td>77.58</td>\n",
              "      <td>386.1</td>\n",
              "      <td>0.14250</td>\n",
              "      <td>0.28390</td>\n",
              "      <td>0.2414</td>\n",
              "      <td>0.10520</td>\n",
              "      <td>0.2597</td>\n",
              "      <td>0.09744</td>\n",
              "      <td>0.4956</td>\n",
              "      <td>1.1560</td>\n",
              "      <td>3.445</td>\n",
              "      <td>27.23</td>\n",
              "      <td>0.009110</td>\n",
              "      <td>0.07458</td>\n",
              "      <td>0.05661</td>\n",
              "      <td>0.01867</td>\n",
              "      <td>0.05963</td>\n",
              "      <td>0.009208</td>\n",
              "      <td>14.91</td>\n",
              "      <td>26.50</td>\n",
              "      <td>98.87</td>\n",
              "      <td>567.7</td>\n",
              "      <td>0.2098</td>\n",
              "      <td>0.8663</td>\n",
              "      <td>0.6869</td>\n",
              "      <td>0.2575</td>\n",
              "      <td>0.6638</td>\n",
              "      <td>0.17300</td>\n",
              "      <td>malignant</td>\n",
              "    </tr>\n",
              "    <tr>\n",
              "      <th>4</th>\n",
              "      <td>20.29</td>\n",
              "      <td>14.34</td>\n",
              "      <td>135.10</td>\n",
              "      <td>1297.0</td>\n",
              "      <td>0.10030</td>\n",
              "      <td>0.13280</td>\n",
              "      <td>0.1980</td>\n",
              "      <td>0.10430</td>\n",
              "      <td>0.1809</td>\n",
              "      <td>0.05883</td>\n",
              "      <td>0.7572</td>\n",
              "      <td>0.7813</td>\n",
              "      <td>5.438</td>\n",
              "      <td>94.44</td>\n",
              "      <td>0.011490</td>\n",
              "      <td>0.02461</td>\n",
              "      <td>0.05688</td>\n",
              "      <td>0.01885</td>\n",
              "      <td>0.01756</td>\n",
              "      <td>0.005115</td>\n",
              "      <td>22.54</td>\n",
              "      <td>16.67</td>\n",
              "      <td>152.20</td>\n",
              "      <td>1575.0</td>\n",
              "      <td>0.1374</td>\n",
              "      <td>0.2050</td>\n",
              "      <td>0.4000</td>\n",
              "      <td>0.1625</td>\n",
              "      <td>0.2364</td>\n",
              "      <td>0.07678</td>\n",
              "      <td>malignant</td>\n",
              "    </tr>\n",
              "  </tbody>\n",
              "</table>\n",
              "</div>"
            ],
            "text/plain": [
              "   mean radius  mean texture  ...  worst fractal dimension     target\n",
              "0        17.99         10.38  ...                  0.11890  malignant\n",
              "1        20.57         17.77  ...                  0.08902  malignant\n",
              "2        19.69         21.25  ...                  0.08758  malignant\n",
              "3        11.42         20.38  ...                  0.17300  malignant\n",
              "4        20.29         14.34  ...                  0.07678  malignant\n",
              "\n",
              "[5 rows x 31 columns]"
            ]
          },
          "metadata": {
            "tags": []
          },
          "execution_count": 3
        }
      ]
    },
    {
      "cell_type": "code",
      "metadata": {
        "id": "UKscsmNJFByg"
      },
      "source": [
        "X = df.iloc[:, :-1]\r\n",
        "y = df.iloc[:, -1]"
      ],
      "execution_count": 4,
      "outputs": []
    },
    {
      "cell_type": "markdown",
      "metadata": {
        "id": "vS6LZo6_WHEq"
      },
      "source": [
        "## Validation Curves"
      ]
    },
    {
      "cell_type": "code",
      "metadata": {
        "id": "dYXuTNKdFjMx"
      },
      "source": [
        "# The hyperparameter 'C' will be analysed\r\n",
        "model = LogisticRegression(C=None, random_state=60)\r\n",
        "hyperparameters = [0.001, 0.01, 0.1, 1, 10, 100, 1000]"
      ],
      "execution_count": 5,
      "outputs": []
    },
    {
      "cell_type": "code",
      "metadata": {
        "id": "_KtKJEhUFFhc"
      },
      "source": [
        "assessment = ValidationCurves(X, y,\r\n",
        "                              estimator=model,\r\n",
        "                              hyperparameter='C',\r\n",
        "                              metric='accuracy',\r\n",
        "                              validation=2)"
      ],
      "execution_count": 6,
      "outputs": []
    },
    {
      "cell_type": "code",
      "metadata": {
        "colab": {
          "base_uri": "https://localhost:8080/",
          "height": 707
        },
        "id": "UEDj-OP3HKvd",
        "outputId": "f30e83b5-0b0b-48ce-b2e1-8bbbd46f5a8f"
      },
      "source": [
        "assessment.validation_curves(param_values=hyperparameters)"
      ],
      "execution_count": 7,
      "outputs": [
        {
          "output_type": "stream",
          "text": [
            "C  =  0.001\n",
            "Train: 0.954 | Validation: 0.924\n",
            "\n",
            "C  =  0.01\n",
            "Train: 0.944 | Validation: 0.926\n",
            "\n",
            "C  =  0.1\n",
            "Train: 0.953 | Validation: 0.919\n",
            "\n",
            "C  =  1\n",
            "Train: 0.954 | Validation: 0.937\n",
            "\n",
            "C  =  10\n",
            "Train: 0.956 | Validation: 0.937\n",
            "\n",
            "C  =  100\n",
            "Train: 0.967 | Validation: 0.953\n",
            "\n",
            "C  =  1000\n",
            "Train: 0.954 | Validation: 0.94\n",
            "\n"
          ],
          "name": "stdout"
        },
        {
          "output_type": "display_data",
          "data": {
            "image/png": "[encoded data removed]",
            "text/plain": [
              "<Figure size 576x360 with 1 Axes>"
            ]
          },
          "metadata": {
            "tags": [],
            "needs_background": "light"
          }
        }
      ]
    },
    {
      "cell_type": "code",
      "metadata": {
        "colab": {
          "base_uri": "https://localhost:8080/",
          "height": 707
        },
        "id": "5IVvF9W_IAbt",
        "outputId": "e7eb8164-0299-4427-b8ed-9d34c3f53353"
      },
      "source": [
        "# The scale of the plot can be changed\r\n",
        "assessment.validation_curves(param_values=hyperparameters, ylim=(0,1.1))"
      ],
      "execution_count": 8,
      "outputs": [
        {
          "output_type": "stream",
          "text": [
            "C  =  0.001\n",
            "Train: 0.954 | Validation: 0.924\n",
            "\n",
            "C  =  0.01\n",
            "Train: 0.944 | Validation: 0.926\n",
            "\n",
            "C  =  0.1\n",
            "Train: 0.953 | Validation: 0.919\n",
            "\n",
            "C  =  1\n",
            "Train: 0.954 | Validation: 0.937\n",
            "\n",
            "C  =  10\n",
            "Train: 0.956 | Validation: 0.937\n",
            "\n",
            "C  =  100\n",
            "Train: 0.967 | Validation: 0.953\n",
            "\n",
            "C  =  1000\n",
            "Train: 0.954 | Validation: 0.94\n",
            "\n"
          ],
          "name": "stdout"
        },
        {
          "output_type": "display_data",
          "data": {
            "image/png": "[encoded data removed]",
            "text/plain": [
              "<Figure size 576x360 with 1 Axes>"
            ]
          },
          "metadata": {
            "tags": [],
            "needs_background": "light"
          }
        }
      ]
    },
    {
      "cell_type": "code",
      "metadata": {
        "colab": {
          "base_uri": "https://localhost:8080/",
          "height": 266
        },
        "id": "TvNyt63XIP_Z",
        "outputId": "4a1021d3-1ab7-4150-fcfb-5012a284c1bd"
      },
      "source": [
        "# And the table result can be accessed\r\n",
        "assessment.table"
      ],
      "execution_count": 9,
      "outputs": [
        {
          "output_type": "execute_result",
          "data": {
            "text/html": [
              "<div>\n",
              "<style scoped>\n",
              "    .dataframe tbody tr th:only-of-type {\n",
              "        vertical-align: middle;\n",
              "    }\n",
              "\n",
              "    .dataframe tbody tr th {\n",
              "        vertical-align: top;\n",
              "    }\n",
              "\n",
              "    .dataframe thead th {\n",
              "        text-align: right;\n",
              "    }\n",
              "</style>\n",
              "<table border=\"1\" class=\"dataframe\">\n",
              "  <thead>\n",
              "    <tr style=\"text-align: right;\">\n",
              "      <th></th>\n",
              "      <th>C</th>\n",
              "      <th>Train</th>\n",
              "      <th>Validation</th>\n",
              "    </tr>\n",
              "  </thead>\n",
              "  <tbody>\n",
              "    <tr>\n",
              "      <th>0</th>\n",
              "      <td>0.001</td>\n",
              "      <td>0.954312</td>\n",
              "      <td>0.924444</td>\n",
              "    </tr>\n",
              "    <tr>\n",
              "      <th>1</th>\n",
              "      <td>0.010</td>\n",
              "      <td>0.943767</td>\n",
              "      <td>0.926198</td>\n",
              "    </tr>\n",
              "    <tr>\n",
              "      <th>2</th>\n",
              "      <td>0.100</td>\n",
              "      <td>0.952539</td>\n",
              "      <td>0.919144</td>\n",
              "    </tr>\n",
              "    <tr>\n",
              "      <th>3</th>\n",
              "      <td>1.000</td>\n",
              "      <td>0.954287</td>\n",
              "      <td>0.936743</td>\n",
              "    </tr>\n",
              "    <tr>\n",
              "      <th>4</th>\n",
              "      <td>10.000</td>\n",
              "      <td>0.956035</td>\n",
              "      <td>0.936749</td>\n",
              "    </tr>\n",
              "    <tr>\n",
              "      <th>5</th>\n",
              "      <td>100.000</td>\n",
              "      <td>0.966605</td>\n",
              "      <td>0.952557</td>\n",
              "    </tr>\n",
              "    <tr>\n",
              "      <th>6</th>\n",
              "      <td>1000.000</td>\n",
              "      <td>0.954281</td>\n",
              "      <td>0.940277</td>\n",
              "    </tr>\n",
              "  </tbody>\n",
              "</table>\n",
              "</div>"
            ],
            "text/plain": [
              "          C     Train  Validation\n",
              "0     0.001  0.954312    0.924444\n",
              "1     0.010  0.943767    0.926198\n",
              "2     0.100  0.952539    0.919144\n",
              "3     1.000  0.954287    0.936743\n",
              "4    10.000  0.956035    0.936749\n",
              "5   100.000  0.966605    0.952557\n",
              "6  1000.000  0.954281    0.940277"
            ]
          },
          "metadata": {
            "tags": []
          },
          "execution_count": 9
        }
      ]
    },
    {
      "cell_type": "code",
      "metadata": {
        "id": "-iSmy58cI-5R"
      },
      "source": [
        "# Testing a decision tree with recall as the metric\r\n",
        "\r\n",
        "depths = [3,5,7,9,11,13,15]\r\n",
        "tree = DecisionTreeClassifier(max_depth=None)\r\n",
        "\r\n",
        "recall = make_scorer(recall_score, average='binary', pos_label='benign')"
      ],
      "execution_count": 10,
      "outputs": []
    },
    {
      "cell_type": "code",
      "metadata": {
        "id": "UyaX1VfcIea1"
      },
      "source": [
        "assessment_decision_tree = ValidationCurves(X, y, \r\n",
        "                                            estimator=tree, \r\n",
        "                                            hyperparameter='max_depth',\r\n",
        "                                            metric=recall,\r\n",
        "                                            validation=2,\r\n",
        "                                            metric_name='recall')"
      ],
      "execution_count": 12,
      "outputs": []
    },
    {
      "cell_type": "code",
      "metadata": {
        "colab": {
          "base_uri": "https://localhost:8080/",
          "height": 708
        },
        "id": "YmW-AQdaJVcC",
        "outputId": "a005df9f-f9e4-4a9c-fb3d-83187e3b33c4"
      },
      "source": [
        "assessment_decision_tree.validation_curves(param_values = depths)"
      ],
      "execution_count": 13,
      "outputs": [
        {
          "output_type": "stream",
          "text": [
            "max_depth  =  3\n",
            "Train: 0.989 | Validation: 0.933\n",
            "\n",
            "max_depth  =  5\n",
            "Train: 1.0 | Validation: 0.936\n",
            "\n",
            "max_depth  =  7\n",
            "Train: 1.0 | Validation: 0.922\n",
            "\n",
            "max_depth  =  9\n",
            "Train: 1.0 | Validation: 0.91\n",
            "\n",
            "max_depth  =  11\n",
            "Train: 1.0 | Validation: 0.885\n",
            "\n",
            "max_depth  =  13\n",
            "Train: 1.0 | Validation: 0.935\n",
            "\n",
            "max_depth  =  15\n",
            "Train: 1.0 | Validation: 0.927\n",
            "\n"
          ],
          "name": "stdout"
        },
        {
          "output_type": "display_data",
          "data": {
            "image/png": "[encoded data removed]",
            "text/plain": [
              "<Figure size 576x360 with 1 Axes>"
            ]
          },
          "metadata": {
            "tags": [],
            "needs_background": "light"
          }
        }
      ]
    },
    {
      "cell_type": "code",
      "metadata": {
        "colab": {
          "base_uri": "https://localhost:8080/",
          "height": 266
        },
        "id": "uiWPbF-hJdI8",
        "outputId": "d1350d3e-15d0-4780-9a54-54f64f158eaf"
      },
      "source": [
        "assessment_decision_tree.table"
      ],
      "execution_count": 14,
      "outputs": [
        {
          "output_type": "execute_result",
          "data": {
            "text/html": [
              "<div>\n",
              "<style scoped>\n",
              "    .dataframe tbody tr th:only-of-type {\n",
              "        vertical-align: middle;\n",
              "    }\n",
              "\n",
              "    .dataframe tbody tr th {\n",
              "        vertical-align: top;\n",
              "    }\n",
              "\n",
              "    .dataframe thead th {\n",
              "        text-align: right;\n",
              "    }\n",
              "</style>\n",
              "<table border=\"1\" class=\"dataframe\">\n",
              "  <thead>\n",
              "    <tr style=\"text-align: right;\">\n",
              "      <th></th>\n",
              "      <th>max_depth</th>\n",
              "      <th>Train</th>\n",
              "      <th>Validation</th>\n",
              "    </tr>\n",
              "  </thead>\n",
              "  <tbody>\n",
              "    <tr>\n",
              "      <th>0</th>\n",
              "      <td>3</td>\n",
              "      <td>0.988795</td>\n",
              "      <td>0.932694</td>\n",
              "    </tr>\n",
              "    <tr>\n",
              "      <th>1</th>\n",
              "      <td>5</td>\n",
              "      <td>1.000000</td>\n",
              "      <td>0.935534</td>\n",
              "    </tr>\n",
              "    <tr>\n",
              "      <th>2</th>\n",
              "      <td>7</td>\n",
              "      <td>1.000000</td>\n",
              "      <td>0.921505</td>\n",
              "    </tr>\n",
              "    <tr>\n",
              "      <th>3</th>\n",
              "      <td>9</td>\n",
              "      <td>1.000000</td>\n",
              "      <td>0.910269</td>\n",
              "    </tr>\n",
              "    <tr>\n",
              "      <th>4</th>\n",
              "      <td>11</td>\n",
              "      <td>1.000000</td>\n",
              "      <td>0.885004</td>\n",
              "    </tr>\n",
              "    <tr>\n",
              "      <th>5</th>\n",
              "      <td>13</td>\n",
              "      <td>1.000000</td>\n",
              "      <td>0.935487</td>\n",
              "    </tr>\n",
              "    <tr>\n",
              "      <th>6</th>\n",
              "      <td>15</td>\n",
              "      <td>1.000000</td>\n",
              "      <td>0.927092</td>\n",
              "    </tr>\n",
              "  </tbody>\n",
              "</table>\n",
              "</div>"
            ],
            "text/plain": [
              "   max_depth     Train  Validation\n",
              "0          3  0.988795    0.932694\n",
              "1          5  1.000000    0.935534\n",
              "2          7  1.000000    0.921505\n",
              "3          9  1.000000    0.910269\n",
              "4         11  1.000000    0.885004\n",
              "5         13  1.000000    0.935487\n",
              "6         15  1.000000    0.927092"
            ]
          },
          "metadata": {
            "tags": []
          },
          "execution_count": 14
        }
      ]
    },
    {
      "cell_type": "markdown",
      "metadata": {
        "id": "ze5o6X6dWBMK"
      },
      "source": [
        "## Learning Curves"
      ]
    },
    {
      "cell_type": "code",
      "metadata": {
        "id": "sjBoCW-1L1vd"
      },
      "source": [
        "tree = DecisionTreeClassifier(max_depth=3, random_state=40)"
      ],
      "execution_count": 15,
      "outputs": []
    },
    {
      "cell_type": "code",
      "metadata": {
        "id": "PdBFQjF0KpeU"
      },
      "source": [
        "learning = LearningCurves(X, y, \r\n",
        "                          estimator=tree, \r\n",
        "                          validation=2, \r\n",
        "                          metric='accuracy', \r\n",
        "                          step_size=50, \r\n",
        "                          shuffle=True)"
      ],
      "execution_count": 16,
      "outputs": []
    },
    {
      "cell_type": "code",
      "metadata": {
        "colab": {
          "base_uri": "https://localhost:8080/",
          "height": 911
        },
        "id": "deoxbeuMLZvw",
        "outputId": "b8f5990e-afed-417b-ba2b-1102c8ece196"
      },
      "source": [
        "learning.learning_curves()"
      ],
      "execution_count": 17,
      "outputs": [
        {
          "output_type": "stream",
          "text": [
            "Samples: 50\n",
            "Train: 1.0 | Validation: 0.9\n",
            "\n",
            "Samples: 100\n",
            "Train: 0.99 | Validation: 0.91\n",
            "\n",
            "Samples: 150\n",
            "Train: 0.993 | Validation: 0.9\n",
            "\n",
            "Samples: 200\n",
            "Train: 0.98 | Validation: 0.92\n",
            "\n",
            "Samples: 250\n",
            "Train: 0.984 | Validation: 0.924\n",
            "\n",
            "Samples: 300\n",
            "Train: 0.987 | Validation: 0.933\n",
            "\n",
            "Samples: 350\n",
            "Train: 0.977 | Validation: 0.949\n",
            "\n",
            "Samples: 400\n",
            "Train: 0.98 | Validation: 0.938\n",
            "\n",
            "Samples: 450\n",
            "Train: 0.98 | Validation: 0.893\n",
            "\n",
            "Samples: 500\n",
            "Train: 0.986 | Validation: 0.92\n",
            "\n",
            "Samples: 550\n",
            "Train: 0.984 | Validation: 0.933\n",
            "\n"
          ],
          "name": "stdout"
        },
        {
          "output_type": "display_data",
          "data": {
            "image/png": "[encoded data removed]",
            "text/plain": [
              "<Figure size 576x360 with 1 Axes>"
            ]
          },
          "metadata": {
            "tags": [],
            "needs_background": "light"
          }
        }
      ]
    },
    {
      "cell_type": "code",
      "metadata": {
        "colab": {
          "base_uri": "https://localhost:8080/",
          "height": 390
        },
        "id": "X4ufGskEPj6m",
        "outputId": "db92cf4a-f5c2-4959-a3a5-6ee03e670e8e"
      },
      "source": [
        "learning.table"
      ],
      "execution_count": 18,
      "outputs": [
        {
          "output_type": "execute_result",
          "data": {
            "text/html": [
              "<div>\n",
              "<style scoped>\n",
              "    .dataframe tbody tr th:only-of-type {\n",
              "        vertical-align: middle;\n",
              "    }\n",
              "\n",
              "    .dataframe tbody tr th {\n",
              "        vertical-align: top;\n",
              "    }\n",
              "\n",
              "    .dataframe thead th {\n",
              "        text-align: right;\n",
              "    }\n",
              "</style>\n",
              "<table border=\"1\" class=\"dataframe\">\n",
              "  <thead>\n",
              "    <tr style=\"text-align: right;\">\n",
              "      <th></th>\n",
              "      <th>Sample size</th>\n",
              "      <th>Train</th>\n",
              "      <th>Validation</th>\n",
              "    </tr>\n",
              "  </thead>\n",
              "  <tbody>\n",
              "    <tr>\n",
              "      <th>0</th>\n",
              "      <td>50</td>\n",
              "      <td>1.000000</td>\n",
              "      <td>0.900000</td>\n",
              "    </tr>\n",
              "    <tr>\n",
              "      <th>1</th>\n",
              "      <td>100</td>\n",
              "      <td>0.990000</td>\n",
              "      <td>0.910000</td>\n",
              "    </tr>\n",
              "    <tr>\n",
              "      <th>2</th>\n",
              "      <td>150</td>\n",
              "      <td>0.993333</td>\n",
              "      <td>0.900000</td>\n",
              "    </tr>\n",
              "    <tr>\n",
              "      <th>3</th>\n",
              "      <td>200</td>\n",
              "      <td>0.980000</td>\n",
              "      <td>0.920000</td>\n",
              "    </tr>\n",
              "    <tr>\n",
              "      <th>4</th>\n",
              "      <td>250</td>\n",
              "      <td>0.984000</td>\n",
              "      <td>0.924000</td>\n",
              "    </tr>\n",
              "    <tr>\n",
              "      <th>5</th>\n",
              "      <td>300</td>\n",
              "      <td>0.986667</td>\n",
              "      <td>0.933333</td>\n",
              "    </tr>\n",
              "    <tr>\n",
              "      <th>6</th>\n",
              "      <td>350</td>\n",
              "      <td>0.977143</td>\n",
              "      <td>0.948571</td>\n",
              "    </tr>\n",
              "    <tr>\n",
              "      <th>7</th>\n",
              "      <td>400</td>\n",
              "      <td>0.980000</td>\n",
              "      <td>0.937500</td>\n",
              "    </tr>\n",
              "    <tr>\n",
              "      <th>8</th>\n",
              "      <td>450</td>\n",
              "      <td>0.980000</td>\n",
              "      <td>0.893333</td>\n",
              "    </tr>\n",
              "    <tr>\n",
              "      <th>9</th>\n",
              "      <td>500</td>\n",
              "      <td>0.986000</td>\n",
              "      <td>0.920000</td>\n",
              "    </tr>\n",
              "    <tr>\n",
              "      <th>10</th>\n",
              "      <td>550</td>\n",
              "      <td>0.983636</td>\n",
              "      <td>0.932727</td>\n",
              "    </tr>\n",
              "  </tbody>\n",
              "</table>\n",
              "</div>"
            ],
            "text/plain": [
              "    Sample size     Train  Validation\n",
              "0            50  1.000000    0.900000\n",
              "1           100  0.990000    0.910000\n",
              "2           150  0.993333    0.900000\n",
              "3           200  0.980000    0.920000\n",
              "4           250  0.984000    0.924000\n",
              "5           300  0.986667    0.933333\n",
              "6           350  0.977143    0.948571\n",
              "7           400  0.980000    0.937500\n",
              "8           450  0.980000    0.893333\n",
              "9           500  0.986000    0.920000\n",
              "10          550  0.983636    0.932727"
            ]
          },
          "metadata": {
            "tags": []
          },
          "execution_count": 18
        }
      ]
    },
    {
      "cell_type": "code",
      "metadata": {
        "id": "qYCbY97_Toa4"
      },
      "source": [
        ""
      ],
      "execution_count": 18,
      "outputs": []
    }
  ]
}